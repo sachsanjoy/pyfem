{
 "cells": [
  {
   "cell_type": "code",
   "execution_count": 11,
   "metadata": {},
   "outputs": [],
   "source": [
    "# Author : Sachu Sanjayan\n",
    "# factored code p04\n",
    "import numpy as np\n",
    "from scipy.optimize import leastsq\n",
    "from scipy.fftpack import ifft\n",
    "from math import ceil\n",
    "\n",
    "\n",
    "import ipywidgets as widgets\n",
    "from IPython.display import display\n",
    "\n",
    "\n",
    "class PyFEM:\n",
    "\n",
    "    \n",
    "    def __init__(self):\n",
    "        self.run_button = widgets.Button(description=\"Extract Frequencies\")\n",
    "        self.visualize_checkbox = widgets.Checkbox(value=False, description=\"Visualize Data\")\n",
    "        self.download_checkbox = widgets.Checkbox(value=False, description=\"Download Data\")\n",
    "        _layout = widgets.Layout(width='80%')\n",
    "        \n",
    "        self.fq_i = widgets.Text(\n",
    "            value='0',\n",
    "            placeholder='Min frequency',\n",
    "            description='Min Fq:',\n",
    "            disabled=False,\n",
    "            layout=_layout   \n",
    "        )\n",
    "        self.fq_n = widgets.Text(\n",
    "            value='25',\n",
    "            placeholder='Max frequency',\n",
    "            description='Max Fq:',\n",
    "            disabled=False,\n",
    "            layout=_layout   \n",
    "        )\n",
    "\n",
    "        self.sn_ratio = widgets.Text(\n",
    "            value='4.5',\n",
    "            placeholder='Signal noise ratio',\n",
    "            description='S/N:',\n",
    "            disabled=False,\n",
    "            layout=_layout   \n",
    "        )\n",
    "        \n",
    "        self.nq = widgets.Text(\n",
    "            value='10',\n",
    "            placeholder='Number of frequencies to extract',\n",
    "            description='Num Fq:',\n",
    "            disabled=False,\n",
    "            layout=_layout     \n",
    "        )\n",
    "\n",
    "        self.ticbox = widgets.Text(\n",
    "            value='filename.dat',\n",
    "            placeholder='file name',\n",
    "            description='filename:',\n",
    "            disabled=False,\n",
    "            layout=_layout     \n",
    "        ) \n",
    "\n",
    "        self.output = widgets.Output()\n",
    "        self.run_button.on_click(self.on_run_button_click)\n",
    "\n",
    "        display( self.ticbox, self.fq_i, self.fq_n, self.sn_ratio, self.nq, self.run_button, self.output)\n",
    "    \n",
    "\n",
    "    def on_run_button_click(self, b):\n",
    "\n",
    "        with self.output:\n",
    "            self.output.clear_output()\n",
    "            print(\"Extracting frequencies !\")\n",
    "\n",
    "            # Load data and run analysis\n",
    "            file_name = rf'{self.ticbox.value}'\n",
    "\n",
    "            fi, fn = float(self.fq_i.value), float(self.fq_n.value)\n",
    "            dn, n = float(self.sn_ratio.value), int(self.nq.value)\n",
    "            dat = np.loadtxt(file_name)\n",
    "            t, a = dat[:, 0], dat[:, 1]\n",
    "            p = self.pysca_loop(t, a, fi, fn, dn, n, fn, ofac=6.0)\n",
    "            np.savetxt('pw_data.pw', p, fmt=\"%12.12f %12.12f %12.12f %12.12f %12.12f\")\n",
    "\n",
    "\n",
    "    def pysca_loop(self, t, a, numin, numax, snr_width, n, hifreq, ofac=6.0):\n",
    "        new_ts = a.copy()\n",
    "        pw_fq, pw_amp, pw_phase, pw_snr, pw_noise = [], [], [], [], []\n",
    "\n",
    "        for i in range(n):\n",
    "            orig_nu, orig_per = self.compute_periodogram(t, new_ts, ofac, hifreq)\n",
    "            nuidx = (orig_nu >= numin) & (orig_nu <= numax)\n",
    "            \n",
    "            if not np.any(nuidx):\n",
    "                continue\n",
    "            \n",
    "            nu, per = orig_nu[nuidx], orig_per[nuidx]\n",
    "            new_freq = self.find_highest_peak(nu, per)\n",
    "\n",
    "            # Fit original time series using extracted mode parameters\n",
    "            amp, phase = 1, 0\n",
    "            new_amp, new_phase, ok, misc = self.fit_timeseries(t, a, new_freq, amp, phase)\n",
    "\n",
    "            if not ok:\n",
    "                raise Exception(f'Harmonic fit failed for peak frequency {new_freq:.12f} [ier={misc[3]}]')\n",
    "\n",
    "            # Prewhiten the original time series\n",
    "            new_ts = self.prewhiten(t, new_ts, new_freq, new_amp, new_phase)\n",
    "            noise = self.median_noise_level(nu, per, new_freq, snr_width)\n",
    "            snr = new_amp / noise\n",
    "\n",
    "            print(f\"{i}) Freq: {new_freq:.12f}, Amp: {new_amp[0]:.12f}, Phase: {new_phase[0]:.12f}, SNR: {snr[0]:.12f}, Noise: {noise:.12f}\")\n",
    "\n",
    "            pw_fq.append(new_freq)\n",
    "            pw_amp.append(new_amp)\n",
    "            pw_phase.append(new_phase)\n",
    "            pw_snr.append(snr)\n",
    "            pw_noise.append(noise)\n",
    "\n",
    "        return np.column_stack((pw_fq, pw_amp, pw_phase, pw_snr, pw_noise))\n",
    "\n",
    "    def compute_periodogram(self, t, a, ofac, hifreq):\n",
    "        t, a = np.atleast_1d(t, a)\n",
    "        if t.ndim > 1 or a.ndim > 1:\n",
    "            raise ValueError('Input arrays must be 1D')\n",
    "        nu, p, _, _, var = self.fasper(t, a, float(ofac), hifreq=float(hifreq))\n",
    "        return nu, 2.0 * np.sqrt(var * p / len(a))\n",
    "\n",
    "    def fasper(self, x, y, ofac, hifac=None, hifreq=None, MACC=4):\n",
    "        n = len(x)\n",
    "        if n != len(y):\n",
    "            raise ValueError('Incompatible arrays.')\n",
    "        \n",
    "        hifac = hifac or 1.0\n",
    "        ave, var = y.mean(), np.var(y, ddof=1)\n",
    "        xmin, xmax, xdif = x.min(), x.max(), x.max() - x.min()\n",
    "        df = 1.0 / (xdif * ofac)\n",
    "        \n",
    "        nout = ceil((hifreq / df) if hifreq else (0.5 * ofac * hifac * n))\n",
    "        nfreqt, nfreq = int(2.0 * nout * MACC), 64\n",
    "        while nfreq < nfreqt:\n",
    "            nfreq *= 2\n",
    "        ndim = 2 * nfreq\n",
    "        \n",
    "        wk1, wk2 = np.zeros(ndim, dtype='complex'), np.zeros(ndim, dtype='complex')\n",
    "        fac, fndim = ndim / (xdif * ofac), ndim\n",
    "        ck, ckk = ((x - xmin) * fac) % fndim, (2.0 * ((x - xmin) * fac) % fndim) % fndim\n",
    "        \n",
    "        for j in range(n):\n",
    "            wk1[int(ck[j])] += y[j] - ave\n",
    "            wk2[int(ckk[j])] += 1.0\n",
    "        \n",
    "        wk1, wk2 = ifft(wk1) * len(wk1), ifft(wk2) * len(wk1)\n",
    "        wk1, wk2 = wk1[1:nout+1], wk2[1:nout+1]\n",
    "        \n",
    "        hypo2 = 2.0 * abs(wk2)\n",
    "        hc2wt, hs2wt = wk2.real / hypo2, wk2.imag / hypo2\n",
    "        cwt, swt = np.sqrt(0.5 + hc2wt), np.sign(hs2wt) * np.sqrt(0.5 - hc2wt)\n",
    "        den = 0.5 * n + hc2wt * wk2.real + hs2wt * wk2.imag\n",
    "        cterm = (cwt * wk1.real + swt * wk1.imag) ** 2 / den\n",
    "        sterm = (cwt * wk1.imag - swt * wk1.real) ** 2 / (n - den)\n",
    "        \n",
    "        return df * (np.arange(nout) + 1.), (cterm + sterm) / (2.0 * var), nout, np.argmax(cterm + sterm), var\n",
    "\n",
    "    def find_highest_peak(self, nu, p):\n",
    "        imax = np.argmax(p)\n",
    "        if imax in {0, p.size - 1}:\n",
    "            return nu[imax]\n",
    "        frq1, frq2, frq3 = nu[imax-1], nu[imax], nu[imax+1]\n",
    "        y1, y2, y3 = p[imax-1], p[imax], p[imax+1]\n",
    "        t1 = (y2 - y3) * (frq2 - frq1)**2 - (y2 - y1) * (frq2 - frq3)**2\n",
    "        t2 = (y2 - y3) * (frq2 - frq1) - (y2 - y1) * (frq2 - frq3)\n",
    "        return frq2 - 0.5 * t1 / t2\n",
    "\n",
    "    def median_noise_level(self, nu, p, nu0, width):\n",
    "        idx = (nu >= nu0 - 0.5 * width) & (nu <= nu0 + 0.5 * width)\n",
    "        return np.median(p[idx]) if np.any(idx) else np.nan\n",
    "\n",
    "\n",
    "    def fit_timeseries(self, t, a, freq, amp0=None, phi0=None, **kwargs):\n",
    "\n",
    "        t, a, freq = np.atleast_1d(t, a, freq)\n",
    "        amp0 = np.ones_like(freq) if amp0 == None else np.atleast_1d(amp0)\n",
    "        phi0 = 0.5 * np.ones_like(freq) if phi0 == None else np.atleast_1d(phi0)\n",
    "        for ary in [t, a, freq, amp0, phi0]:\n",
    "            if ary.ndim > 1:\n",
    "                raise ValueError('Input arrays must be 1d')\n",
    "\n",
    "        # Fill missing initial values for amplitudes and phases.\n",
    "        if amp0.size < freq.size:\n",
    "            amp0 = np.concatenate((amp0, np.ones(freq.size - amp0.size)))\n",
    "        if phi0.size < freq.size:\n",
    "            phi0 = np.concatenate((phi0, 0.5 * np.ones(freq.size - phi0.size)))\n",
    "\n",
    "        # Perform leastsq fit.\n",
    "        x, cov_x, infodict, mesg, ier = leastsq(\n",
    "            self._minfunc, np.concatenate((amp0, phi0)), args=(t, a, freq),\n",
    "            Dfun=self._dfunc, full_output=1, col_deriv=1, **kwargs)\n",
    "\n",
    "        # The fit was successful, if ier in [1, 2, 3, 4]\n",
    "        ok = (ier >= 1) and (ier <= 4)\n",
    "\n",
    "        # Extract amplitudes and phases from the fit result.\n",
    "        n = len(x) // 2\n",
    "        amp, phi = x[:n], x[n:]\n",
    "        idx = (amp < 0)\n",
    "        amp[idx] *= -1.0\n",
    "        phi[idx] += 0.5\n",
    "        phi = np.mod(phi, 1)\n",
    "\n",
    "        return amp, phi, ok, (cov_x, infodict, mesg, ier)\n",
    "\n",
    "\n",
    "    def _minfunc(self, amph, xdat, ydat, nu):\n",
    "\n",
    "        n = len(amph) // 2\n",
    "        return ydat - self.harmfunc(xdat, nu, amph[:n], amph[n:])\n",
    "\n",
    "    def _dfunc(self, amph, xdat, ydat, nu):\n",
    "    \n",
    "        n = len(amph) // 2\n",
    "        am, ph = amph[:n], amph[n:]\n",
    "        res = np.zeros((len(amph), len(xdat)))\n",
    "        for i in range(n):\n",
    "            res[i] = -np.sin(2*np.pi * (nu[i]*xdat + ph[i]))\n",
    "        for i in range(n):\n",
    "            res[n+i] = -am[i] * np.cos(2*np.pi * (nu[i]*xdat + ph[i])) * 2*np.pi\n",
    "        return res\n",
    "\n",
    "    def harmfunc(self, t, nu, amp, phi):\n",
    "\n",
    "        t, nu, amp, phi = np.atleast_1d(t, nu, amp, phi)\n",
    "        if t.ndim > 1 or nu.ndim > 1 or amp.ndim > 1 or phi.ndim > 1:\n",
    "            raise ValueError('Input arrays must be 1d')\n",
    "        n = len(nu)\n",
    "        res = np.zeros(len(t))\n",
    "        for i in range(n):\n",
    "            res += amp[i] * np.sin(2 * np.pi * (nu[i] * t + phi[i]))\n",
    "        return res\n",
    "\n",
    "    def prewhiten(self, t, a, freq, amp, phi):\n",
    "\n",
    "        t, a, freq, amp, phi = np.atleast_1d(t, a, freq, amp, phi)\n",
    "        for ary in [t, a, freq, amp, phi]:\n",
    "            if ary.ndim > 1:\n",
    "                raise ValueError('Input arrays must be 1d')\n",
    "        if len(t) != len(a):\n",
    "            raise ValueError(\"Arrays 't' and 'a' must have equal size\")\n",
    "        if len(freq) != len(amp) or len(amp) != len(phi):\n",
    "            raise ValueError(\"Arrays 'freq', 'amp' and 'phi' must have equal size\")\n",
    "        return a - self.harmfunc(t, freq, amp, phi)\n",
    "\n",
    "\n",
    "    def run():\n",
    "        PyFEM()"
   ]
  },
  {
   "cell_type": "code",
   "execution_count": null,
   "metadata": {},
   "outputs": [
    {
     "data": {
      "application/vnd.jupyter.widget-view+json": {
       "model_id": "f4b82cefe7f14344a864d20d9eaecf4f",
       "version_major": 2,
       "version_minor": 0
      },
      "text/plain": [
       "Text(value='filename.dat', description='filename:', layout=Layout(width='80%'), placeholder='file name')"
      ]
     },
     "metadata": {},
     "output_type": "display_data"
    },
    {
     "data": {
      "application/vnd.jupyter.widget-view+json": {
       "model_id": "c551af6d6df34152a85b189fb2afc052",
       "version_major": 2,
       "version_minor": 0
      },
      "text/plain": [
       "Text(value='0', description='Min Fq:', layout=Layout(width='80%'), placeholder='Min frequency')"
      ]
     },
     "metadata": {},
     "output_type": "display_data"
    },
    {
     "data": {
      "application/vnd.jupyter.widget-view+json": {
       "model_id": "737e01a921f64158944940f11c3f9677",
       "version_major": 2,
       "version_minor": 0
      },
      "text/plain": [
       "Text(value='25', description='Max Fq:', layout=Layout(width='80%'), placeholder='Max frequency')"
      ]
     },
     "metadata": {},
     "output_type": "display_data"
    },
    {
     "data": {
      "application/vnd.jupyter.widget-view+json": {
       "model_id": "734646b39093466383232b845b8b9ba6",
       "version_major": 2,
       "version_minor": 0
      },
      "text/plain": [
       "Text(value='4.5', description='S/N:', layout=Layout(width='80%'), placeholder='Signal noise ratio')"
      ]
     },
     "metadata": {},
     "output_type": "display_data"
    },
    {
     "data": {
      "application/vnd.jupyter.widget-view+json": {
       "model_id": "202e8f9efa9b40c7b77845a1a3ae088d",
       "version_major": 2,
       "version_minor": 0
      },
      "text/plain": [
       "Text(value='10', description='Num Fq:', layout=Layout(width='80%'), placeholder='Number of frequencies to extr…"
      ]
     },
     "metadata": {},
     "output_type": "display_data"
    },
    {
     "data": {
      "application/vnd.jupyter.widget-view+json": {
       "model_id": "39fe0052b2124d2fbfde8e9b0148f333",
       "version_major": 2,
       "version_minor": 0
      },
      "text/plain": [
       "Button(description='Extract Frequencies', style=ButtonStyle())"
      ]
     },
     "metadata": {},
     "output_type": "display_data"
    },
    {
     "data": {
      "application/vnd.jupyter.widget-view+json": {
       "model_id": "da241fff9aab4815a735e35df3af0bd6",
       "version_major": 2,
       "version_minor": 0
      },
      "text/plain": [
       "Output()"
      ]
     },
     "metadata": {},
     "output_type": "display_data"
    },
    {
     "data": {
      "text/plain": [
       "<bound method PyFEM.run of <__main__.PyFEM object at 0x0000019E07A7C050>>"
      ]
     },
     "execution_count": 12,
     "metadata": {},
     "output_type": "execute_result"
    }
   ],
   "source": [
    "P04 = PyFEM()\n",
    "P04.run"
   ]
  }
 ],
 "metadata": {
  "kernelspec": {
   "display_name": "astral",
   "language": "python",
   "name": "python3"
  },
  "language_info": {
   "codemirror_mode": {
    "name": "ipython",
    "version": 3
   },
   "file_extension": ".py",
   "mimetype": "text/x-python",
   "name": "python",
   "nbconvert_exporter": "python",
   "pygments_lexer": "ipython3",
   "version": "3.13.2"
  }
 },
 "nbformat": 4,
 "nbformat_minor": 2
}
